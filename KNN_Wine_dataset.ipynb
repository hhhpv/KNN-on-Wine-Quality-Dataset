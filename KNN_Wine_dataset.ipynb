{
 "cells": [
  {
   "cell_type": "markdown",
   "metadata": {},
   "source": [
    "<h1 align=\"center\">KNN on Wine Quality Dataset<h1>"
   ]
  },
  {
   "cell_type": "markdown",
   "metadata": {},
   "source": [
    "## First let's import all the libraries we will be using in this project"
   ]
  },
  {
   "cell_type": "code",
   "execution_count": 1,
   "metadata": {},
   "outputs": [],
   "source": [
    "import pandas as pd\n",
    "import numpy as np\n",
    "import matplotlib.pyplot as plt\n",
    "from sklearn.model_selection import train_test_split\n",
    "from sklearn.preprocessing import StandardScaler\n",
    "from sklearn.neighbors import KNeighborsClassifier\n",
    "from sklearn.model_selection import cross_val_score\n",
    "from sklearn.model_selection import GridSearchCV\n",
    "from matplotlib.colors import ListedColormap\n",
    "from sklearn import neighbors"
   ]
  },
  {
   "cell_type": "markdown",
   "metadata": {},
   "source": [
    "## Next we will define a function to load our data. Our data contains unwanted values till row 14. So, we will skip those values and also pass the list of column names to be used for ouor data-set."
   ]
  },
  {
   "cell_type": "code",
   "execution_count": 2,
   "metadata": {},
   "outputs": [],
   "source": [
    "def LoadDataSet(filename,column_names):\n",
    "    column_names=[\"FixedAcidity\",\"VolatileAcidity\",\"CitricAcid\",\"ResidualSugar\",\"Chlorides\",\"FreeSulfurDioxide\",\"TotalSulfurDioxide\",\"Density\",\"pH\",\"Sulphates\",\"Alcohol\",\"Quality\"]\n",
    "    load_data=pd.read_csv(filename,sep=\",\",engine=\"python\",skiprows=14,names=column_names)\n",
    "    return load_data"
   ]
  },
  {
   "cell_type": "markdown",
   "metadata": {},
   "source": [
    " "
   ]
  },
  {
   "cell_type": "markdown",
   "metadata": {},
   "source": [
    "## Now we will define a function that will do all the pre-processing on the data:\n",
    "## The pre-processing that we have done on our data can be divided into the following steps:\n",
    "### 1. First we will explore and plot the data set.\n",
    "### 2. Next we check the rows which have any null values. Print them and then drop them from the data set. We  will verify again that there are no more null values in the data set.\n",
    "### 3.Next we will group our data set based on the \"quality\" feature. This shows the number of data points belonging to each quality class in our data set. \n",
    "### 3a. Next, We will observe that in our data set we have just one value each for the class \"0\" and class \"11\" of the quality column. This will create a problem while \"stratifying\" our data set to create train and test samples. So, we will drop these two rows from our data set.\n",
    "### 4. Next we will check the number of zero filled values in each column and replace those entries with the standard deviation of the respective column to improve our accuracy and mis-classification.\n",
    "### 5. Next, we will divide our data set to X and y features and scale our data points using the \"Standard Scaler\" and we will return the feature vector \"X\" and the target vector \"y\" to the calling function."
   ]
  },
  {
   "cell_type": "code",
   "execution_count": 3,
   "metadata": {},
   "outputs": [],
   "source": [
    "#Helper Function to check Number of Zeroes in each column\n",
    "def checkIsZeroHelper(column_name,load_data):\n",
    "    cnt=0\n",
    "    for i in load_data.itertuples():\n",
    "        r=i._asdict()\n",
    "        if r[column_name] == 0:\n",
    "            cnt+=1\n",
    "    print(\"number of zeroes in \",column_name,\"=\",cnt)\n",
    "\n",
    "\n",
    "def PreProcessData(load_data):\n",
    "    print(\"Length of Original Data = \",len(load_data))\n",
    "    print(load_data.head())\n",
    "        \n",
    "    plt.figure(figsize=(14,6))\n",
    "    bins = np.arange(start=0, stop=200, step=1)\n",
    "    plt.hist([load_data[\"FixedAcidity\"],load_data[\"VolatileAcidity\"],load_data[\"CitricAcid\"],load_data[\"ResidualSugar\"],load_data[\"Chlorides\"],load_data[\"FreeSulfurDioxide\"],load_data[\"TotalSulfurDioxide\"],load_data[\"Density\"],load_data[\"pH\"],load_data[\"Sulphates\"],load_data[\"Alcohol\"],load_data[\"Quality\"]], bins, label=load_data.columns)\n",
    "    plt.legend(loc='upper right')\n",
    "    plt.show()\n",
    "    \n",
    "    print(\"Printing columns with null values:\\n\\n\")\n",
    "    print(load_data.isnull().any())\n",
    "    \n",
    "    #Deleting the entire row with any null valued columnn\n",
    "    null_columns=load_data.columns[load_data.isnull().any()]\n",
    "    null_valued_rows=load_data[load_data.isnull().any(axis=1)][null_columns]\n",
    "    for i in null_valued_rows.iterrows():\n",
    "        load_data=load_data.drop([i[0]])\n",
    "    \n",
    "    print(\"Veifying if any column still has null value:\\n\\n\")\n",
    "    print(load_data.isnull().any())\n",
    "    \n",
    "    \n",
    "    #Using GroupBy on Quality Feature to check the number of data points for each class type\n",
    "    classes=(load_data.groupby([\"Quality\"]).count())\n",
    "    print(classes)\n",
    "    #We remove the rows corresponding to Quality classes 0 and 11.\n",
    "    load_data = load_data[load_data.Quality != 0]\n",
    "    load_data = load_data[load_data.Quality != 11]\n",
    "    \n",
    "    #Check the number of zeroes in each column and replace it with the standard deviation of the column\n",
    "    columns=load_data.columns\n",
    "    for i in columns:\n",
    "        checkIsZeroHelper(i,load_data)\n",
    "        \n",
    "    #We replace the zeroes in Citric Acid Column since it is more\n",
    "    load_data[\"CitricAcid\"]=load_data[\"CitricAcid\"].replace(0,np.nan)\n",
    "    dev=load_data[\"CitricAcid\"].std()\n",
    "    load_data[\"CitricAcid\"]=load_data[\"CitricAcid\"].replace(np.nan,dev)\n",
    "    \n",
    "    #Next We will divide our data into fetaure and target vector\n",
    "    X=load_data\n",
    "    X=X.drop([\"Quality\"],axis=1)\n",
    "    y=load_data[\"Quality\"]\n",
    "    \n",
    "    #Next we will scale the feature vector using Standard Scaler\n",
    "    scaler = StandardScaler()\n",
    "    for feature in X.columns:\n",
    "        X[feature] = scaler.fit_transform(X[feature].values.reshape(-1,1))\n",
    "        \n",
    "    return X,y\n",
    "    \n"
   ]
  },
  {
   "cell_type": "code",
   "execution_count": 4,
   "metadata": {},
   "outputs": [],
   "source": [
    "def KNearestClassifier_Unoptimized(X_train,X_test,y_train,y_test,k):\n",
    "    neigh = KNeighborsClassifier(n_neighbors=k,weights='distance')\n",
    "    neigh.fit(X_train, y_train)\n",
    "    predicted_Classes=neigh.predict(X_test)\n",
    "    print(\"\\n\\n\\nAccuracy Score of Unoptimized K-Nearest Neighbor = \",neigh.score(X_test,y_test))"
   ]
  },
  {
   "cell_type": "code",
   "execution_count": 5,
   "metadata": {},
   "outputs": [],
   "source": [
    "def CrossValidate(T,X,y,k):\n",
    "    neigh = KNeighborsClassifier(n_neighbors=k,weights='distance')\n",
    "    scores = cross_val_score(neigh,X,y,cv=T)\n",
    "    print(\"\\n\\n\\nCross Validation Results:\")\n",
    "    print(\"Accuracy Scores = \",scores)\n",
    "    print(\"Accuracy: %0.2f (+/- %0.2f)\" % (scores.mean(), scores.std() * 2))"
   ]
  },
  {
   "cell_type": "code",
   "execution_count": 6,
   "metadata": {},
   "outputs": [],
   "source": [
    "def GridSearch(T,R1,R2,X_train,X_test,y_train,y_test,X,y):\n",
    "    leaf_size = list(range(1,50))\n",
    "    n_neighbors=[]\n",
    "    \n",
    "    #We will consider only Odd Values of K. Since it will help in tie-breaking.\n",
    "    for i in range(R1,R2):\n",
    "        if i%2!=0:\n",
    "            n_neighbors.append(i)\n",
    "    p=[1,2]\n",
    "    \n",
    "    #In the weights parameter we will use the distance parameter. This will assign weights based on the distance for each point.\n",
    "    hyperparameters = dict(leaf_size=leaf_size, n_neighbors=list(n_neighbors), p=p, weights=['distance'])\n",
    "    \n",
    "    neigh=KNeighborsClassifier()\n",
    "    clf = GridSearchCV(neigh, hyperparameters, cv=5, n_jobs=-1)\n",
    "    optimized_models=clf.fit(X_train, y_train)\n",
    "    \n",
    "    print(\"\\n\\n\\nGridSearchCV Results:\")\n",
    "    print(sorted(clf.cv_results_.keys()))\n",
    "    print(sorted(clf.cv_results_))\n",
    "    \n",
    "    print('Best leaf_size:', optimized_models.best_estimator_.get_params()['leaf_size'])\n",
    "    print('Best p:', optimized_models.best_estimator_.get_params()['p'])\n",
    "    print('Best n_neighbors:', optimized_models.best_estimator_.get_params()['n_neighbors'])\n",
    "    print('Optimal model Score = ',optimized_models.score(X_test,y_test))\n",
    "    \n",
    "    opt_leaf_size=optimized_models.best_estimator_.get_params()['leaf_size']\n",
    "    opt_p=optimized_models.best_estimator_.get_params()['p']\n",
    "    opt_n=optimized_models.best_estimator_.get_params()['n_neighbors']\n",
    "    \n",
    "    \n",
    "    #Next we will fit and plot the optimized model.\n",
    "    X = X_test.values[:,:2]\n",
    "    y = y_test\n",
    "    \n",
    "    clf = neighbors.KNeighborsClassifier(opt_n, weights='distance',p=opt_p,leaf_size=opt_leaf_size)\n",
    "    clf.fit(X, y)\n",
    "    \n",
    "    #We will just consider first two columns for plotting the result\n",
    "    #Note: Even PCA can be applied here.\n",
    "    h = .02\n",
    "    x_min, x_max = X[:, 0].min() - 1, X[:, 0].max() + 1\n",
    "    y_min, y_max = X[:, 1].min() - 1, X[:, 1].max() + 1\n",
    "    xx, yy = np.meshgrid(np.arange(x_min, x_max, h),np.arange(y_min, y_max, h))\n",
    "    Z = clf.predict(np.c_[xx.ravel(), yy.ravel()])\n",
    "    \n",
    "    cmap_colors = ListedColormap(['black','white','gray'])\n",
    "    Z = Z.reshape(xx.shape)\n",
    "    plt.figure()\n",
    "    plt.pcolormesh(xx, yy, Z, cmap=cmap_colors)\n",
    "    "
   ]
  },
  {
   "cell_type": "code",
   "execution_count": 7,
   "metadata": {},
   "outputs": [
    {
     "name": "stdout",
     "output_type": "stream",
     "text": [
      "Length of Original Data =  4901\n",
      "   FixedAcidity  VolatileAcidity  CitricAcid  ResidualSugar  Chlorides  \\\n",
      "0           7.0             0.27        0.36           20.7      0.045   \n",
      "1           7.2             0.23        0.32            8.5      0.058   \n",
      "2           7.2             0.23        0.32            8.5      0.058   \n",
      "3           7.0             0.27        0.36           20.7      0.045   \n",
      "4           6.3             0.30        0.34            1.6      0.049   \n",
      "\n",
      "   FreeSulfurDioxide  TotalSulfurDioxide  Density    pH  Sulphates  Alcohol  \\\n",
      "0               45.0               170.0   1.0010  3.00       0.45      8.8   \n",
      "1               47.0               186.0   0.9956  3.19       0.40      9.9   \n",
      "2               47.0               186.0   0.9956  3.19       0.40      9.9   \n",
      "3               45.0               170.0   1.0010  3.00       0.45      8.8   \n",
      "4               14.0               132.0   0.9940  3.30       0.49      9.5   \n",
      "\n",
      "   Quality  \n",
      "0      6.0  \n",
      "1      6.0  \n",
      "2      6.0  \n",
      "3      6.0  \n",
      "4      6.0  \n"
     ]
    },
    {
     "data": {
      "image/png": "[encoded data removed]",
      "text/plain": [
       "<Figure size 1008x432 with 1 Axes>"
      ]
     },
     "metadata": {
      "needs_background": "light"
     },
     "output_type": "display_data"
    },
    {
     "name": "stdout",
     "output_type": "stream",
     "text": [
      "Printing columns with null values:\n",
      "\n",
      "\n",
      "FixedAcidity          False\n",
      "VolatileAcidity       False\n",
      "CitricAcid            False\n",
      "ResidualSugar         False\n",
      "Chlorides             False\n",
      "FreeSulfurDioxide     False\n",
      "TotalSulfurDioxide    False\n",
      "Density               False\n",
      "pH                    False\n",
      "Sulphates             False\n",
      "Alcohol               False\n",
      "Quality                True\n",
      "dtype: bool\n",
      "Veifying if any column still has null value:\n",
      "\n",
      "\n",
      "FixedAcidity          False\n",
      "VolatileAcidity       False\n",
      "CitricAcid            False\n",
      "ResidualSugar         False\n",
      "Chlorides             False\n",
      "FreeSulfurDioxide     False\n",
      "TotalSulfurDioxide    False\n",
      "Density               False\n",
      "pH                    False\n",
      "Sulphates             False\n",
      "Alcohol               False\n",
      "Quality               False\n",
      "dtype: bool\n",
      "         FixedAcidity  VolatileAcidity  CitricAcid  ResidualSugar  Chlorides  \\\n",
      "Quality                                                                        \n",
      "0.0                 1                1           1              1          1   \n",
      "3.0                20               20          20             20         20   \n",
      "4.0               163              163         163            163        163   \n",
      "5.0              1457             1457        1457           1457       1457   \n",
      "6.0              2198             2198        2198           2198       2198   \n",
      "7.0               880              880         880            880        880   \n",
      "8.0               175              175         175            175        175   \n",
      "9.0                 5                5           5              5          5   \n",
      "11.0                1                1           1              1          1   \n",
      "\n",
      "         FreeSulfurDioxide  TotalSulfurDioxide  Density    pH  Sulphates  \\\n",
      "Quality                                                                    \n",
      "0.0                      1                   1        1     1          1   \n",
      "3.0                     20                  20       20    20         20   \n",
      "4.0                    163                 163      163   163        163   \n",
      "5.0                   1457                1457     1457  1457       1457   \n",
      "6.0                   2198                2198     2198  2198       2198   \n",
      "7.0                    880                 880      880   880        880   \n",
      "8.0                    175                 175      175   175        175   \n",
      "9.0                      5                   5        5     5          5   \n",
      "11.0                     1                   1        1     1          1   \n",
      "\n",
      "         Alcohol  \n",
      "Quality           \n",
      "0.0            1  \n",
      "3.0           20  \n",
      "4.0          163  \n",
      "5.0         1457  \n",
      "6.0         2198  \n",
      "7.0          880  \n",
      "8.0          175  \n",
      "9.0            5  \n",
      "11.0           1  \n",
      "number of zeroes in  FixedAcidity = 0\n",
      "number of zeroes in  VolatileAcidity = 0\n",
      "number of zeroes in  CitricAcid = 19\n",
      "number of zeroes in  ResidualSugar = 0\n",
      "number of zeroes in  Chlorides = 0\n",
      "number of zeroes in  FreeSulfurDioxide = 0\n",
      "number of zeroes in  TotalSulfurDioxide = 0\n",
      "number of zeroes in  Density = 0\n",
      "number of zeroes in  pH = 0\n",
      "number of zeroes in  Sulphates = 0\n",
      "number of zeroes in  Alcohol = 0\n",
      "number of zeroes in  Quality = 0\n",
      "Enter Initial K 7\n",
      "Enter Cross Validation term(T) 5\n",
      "Enter start range of k for grid search 1\n",
      "Enter end range of k for grid search 25\n",
      "\n",
      "\n",
      "\n",
      "Accuracy Score of Unoptimized K-Nearest Neighbor =  0.6244897959183674\n",
      "\n",
      "\n",
      "\n",
      "Cross Validation Results:\n",
      "Accuracy Scores =  [0.60856269 0.60142712 0.52959184 0.60838446 0.58486708]\n",
      "Accuracy: 0.59 (+/- 0.06)\n"
     ]
    },
    {
     "name": "stderr",
     "output_type": "stream",
     "text": [
      "C:\\Users\\hithe\\AppData\\Local\\Continuum\\anaconda3\\envs\\tensorflow_gpuenv\\lib\\site-packages\\sklearn\\model_selection\\_split.py:657: Warning: The least populated class in y has only 4 members, which is too few. The minimum number of members in any class cannot be less than n_splits=5.\n",
      "  % (min_groups, self.n_splits)), Warning)\n"
     ]
    },
    {
     "name": "stdout",
     "output_type": "stream",
     "text": [
      "\n",
      "\n",
      "\n",
      "GridSearchCV Results:\n",
      "['mean_fit_time', 'mean_score_time', 'mean_test_score', 'param_leaf_size', 'param_n_neighbors', 'param_p', 'param_weights', 'params', 'rank_test_score', 'split0_test_score', 'split1_test_score', 'split2_test_score', 'split3_test_score', 'split4_test_score', 'std_fit_time', 'std_score_time', 'std_test_score']\n",
      "['mean_fit_time', 'mean_score_time', 'mean_test_score', 'param_leaf_size', 'param_n_neighbors', 'param_p', 'param_weights', 'params', 'rank_test_score', 'split0_test_score', 'split1_test_score', 'split2_test_score', 'split3_test_score', 'split4_test_score', 'std_fit_time', 'std_score_time', 'std_test_score']\n",
      "Best leaf_size: 1\n",
      "Best p: 1\n",
      "Best n_neighbors: 19\n",
      "Optimal model Score =  0.6510204081632653\n"
     ]
    },
    {
     "data": {
      "image/png": "[encoded data removed]",
      "text/plain": [
       "<Figure size 432x288 with 1 Axes>"
      ]
     },
     "metadata": {
      "needs_background": "light"
     },
     "output_type": "display_data"
    }
   ],
   "source": [
    "def main():\n",
    "    load_data=LoadDataSet(\"./wine_quality.csv\",[\"FixedAcidity\",\"VolatileAcidity\",\"CitricAcid\",\"ResidualSugar\",\"Chlorides\",\"FreeSulfurDioxide\",\"TotalSulfurDioxide\",\"Density\",\"pH\",\"Sulphates\",\"Alcohol\",\"Quality\"])\n",
    "    X,y=PreProcessData(load_data)\n",
    "    X_train, X_test, y_train, y_test = train_test_split(X, y.values, test_size=0.2, random_state=42, stratify=y)\n",
    "    \n",
    "    k=int(input(\"Enter Initial K \"))\n",
    "    T=int(input(\"Enter Cross Validation term(T) \"))\n",
    "    R1=int(input(\"Enter start range of k for grid search \"))\n",
    "    R2=int(input(\"Enter end range of k for grid search \"))\n",
    "    \n",
    "    #KNN Initial\n",
    "    KNearestClassifier_Unoptimized(X_train,X_test,y_train,y_test,k)\n",
    "    \n",
    "    #Cross-Validate\n",
    "    CrossValidate(T,X,y,k)\n",
    "    \n",
    "    #GridSearchCV\n",
    "    GridSearch(T,R1,R2,X_train,X_test,y_train,y_test,X,y)\n",
    "def __init__():\n",
    "    main()\n",
    "__init__()"
   ]
  },
  {
   "cell_type": "markdown",
   "metadata": {},
   "source": [
    "## References:\n",
    "### 1. Sklearn Documentation"
   ]
  },
  {
   "cell_type": "code",
   "execution_count": null,
   "metadata": {},
   "outputs": [],
   "source": []
  },
  {
   "cell_type": "code",
   "execution_count": null,
   "metadata": {},
   "outputs": [],
   "source": []
  }
 ],
 "metadata": {
  "kernelspec": {
   "display_name": "Python 3",
   "language": "python",
   "name": "python3"
  },
  "language_info": {
   "codemirror_mode": {
    "name": "ipython",
    "version": 3
   },
   "file_extension": ".py",
   "mimetype": "text/x-python",
   "name": "python",
   "nbconvert_exporter": "python",
   "pygments_lexer": "ipython3",
   "version": "3.7.3"
  }
 },
 "nbformat": 4,
 "nbformat_minor": 2
}
